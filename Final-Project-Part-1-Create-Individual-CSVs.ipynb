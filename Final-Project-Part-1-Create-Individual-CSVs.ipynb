{
 "cells": [
  {
   "cell_type": "code",
   "execution_count": 1,
   "metadata": {
    "collapsed": true
   },
   "outputs": [],
   "source": [
    "# Zach Ellenberg, Willard Chan, Rachel \"Bum Rat\" Kirschner, Spencer Jaquish, Franz Arend\n",
    "# zellenberg, willchan22, kirschdog, sjaquish, fja1995\n",
    "# June 3rd, 2016\n",
    "# Creating individual csv files for each table"
   ]
  },
  {
   "cell_type": "code",
   "execution_count": 2,
   "metadata": {
    "collapsed": true
   },
   "outputs": [],
   "source": [
    "import csv"
   ]
  },
  {
   "cell_type": "code",
   "execution_count": 3,
   "metadata": {
    "collapsed": false
   },
   "outputs": [],
   "source": [
    "csvFile = open(\"U:\\\\Seattle_Cultural_Space_Inventory.csv\")"
   ]
  },
  {
   "cell_type": "code",
   "execution_count": 4,
   "metadata": {
    "collapsed": true
   },
   "outputs": [],
   "source": [
    "# Header fields\n",
    "cultural_spaces_fields = ['id', 'name', 'phone', 'sq_ft_total', 'address', 'location', 'dom_disc_id', 'sec_disc_id', \n",
    "                   'third_disc_id', 'neighborhood_id', 'constituency_id']\n",
    "discipline_fields = ['id', 'discipline']\n",
    "neighborhood_fields = ['id', 'neighborhood']\n",
    "constituency_fields = ['id', 'constituency']"
   ]
  },
  {
   "cell_type": "code",
   "execution_count": 5,
   "metadata": {
    "collapsed": false
   },
   "outputs": [],
   "source": [
    "reader = csv.DictReader(csvFile)\n",
    "\n",
    "# ld = list of dictionaries\n",
    "cultural_spaces_ld = []\n",
    "discipline_ld = []\n",
    "neighborhood_ld = []\n",
    "constituency_ld = []\n",
    "\n",
    "# Lists of unique values for discipline, neighborhood and constituency\n",
    "unique_discipline = ['']\n",
    "unique_neighborhood = ['']\n",
    "unique_constituency = ['']\n",
    "\n",
    "# Creating initial row for null or blank values\n",
    "discipline_ld.append({'id': 1, 'discipline': ''})\n",
    "neighborhood_ld.append({'id': 1, 'neighborhood': ''})\n",
    "constituency_ld.append({'id': 1, 'constituency': ''})\n",
    "\n",
    "cultural_spaces_id = 1\n",
    "# The following ids start at 2 because 1 is already assigned to null\n",
    "discipline_id = 2\n",
    "neighborhood_id = 2\n",
    "constituency_id = 2\n",
    "\n",
    "for row in reader:\n",
    "    # Here we are populating the cultural_spaces list of dictionaries with each row; with the value as the definition and the\n",
    "    # proper column name as the key\n",
    "    # The .replace(\"'\", \"\") strips the given string of single quotes\n",
    "    cultural_spaces_ld.append({'id': cultural_spaces_id, 'name': row['Name'].replace(\"'\", \"\"), 'phone': row['Phone'],\n",
    "                               'sq_ft_total': row['Square Feet Total'], 'address': row['Address'].replace(\"'\", \"\"),\n",
    "                               'location': row['Location'], 'dom_disc_id': 1, 'sec_disc_id': 1,\n",
    "                               'third_disc_id': 1, 'neighborhood_id': 1, 'constituency_id': 1})\n",
    "    cultural_spaces_id += 1\n",
    "    \n",
    "    # Here we are doing the same for the discipline, neighborhood, and constituency tables, except we are only populating them\n",
    "    # with unique values\n",
    "    discipline_1 = row['Dominant Discipline']\n",
    "    discipline_2 = row['2nd Discipline']\n",
    "    discipline_3 = row['3rd Discipline']\n",
    "    if (discipline_1 not in unique_discipline):\n",
    "        unique_discipline.append(discipline_1)\n",
    "        discipline_ld.append({'id': discipline_id, 'discipline': discipline_1})\n",
    "        discipline_id += 1\n",
    "    if (discipline_2 not in unique_discipline):\n",
    "        unique_discipline.append(discipline_2)\n",
    "        discipline_ld.append({'id': discipline_id, 'discipline': discipline_2})\n",
    "        discipline_id += 1\n",
    "    if (discipline_3 not in unique_discipline):\n",
    "        unique_discipline.append(discipline_3)\n",
    "        discipline_ld.append({'id': discipline_id, 'discipline': discipline_3})\n",
    "        discipline_id += 1\n",
    "        \n",
    "    neighborhood = row['Neighborhood']\n",
    "    if (neighborhood not in unique_neighborhood):\n",
    "        unique_neighborhood.append(neighborhood)\n",
    "        neighborhood_ld.append({'id': neighborhood_id, 'neighborhood': neighborhood})\n",
    "        neighborhood_id += 1\n",
    "        \n",
    "    constituency = row['Constituency over 50% one race?']\n",
    "    if (constituency not in unique_constituency):\n",
    "        unique_constituency.append(constituency)\n",
    "        constituency_ld.append({'id': constituency_id, 'constituency': constituency})\n",
    "        constituency_id += 1\n",
    "        \n",
    "csvFile.close()"
   ]
  },
  {
   "cell_type": "code",
   "execution_count": 6,
   "metadata": {
    "collapsed": false
   },
   "outputs": [],
   "source": [
    "# Here we are writing each item in each list of dictionaries as a row to its respective csv file, which we are also creating \n",
    "# We open each new csv file, populate it, and then close it; then move onto the next file and list of dictionaries\n",
    "# Before we write the rows in from the list of dictionaries, we write the header row, which is based on the header fields\n",
    "# created at the beginning of this script\n",
    "\n",
    "filePath = 'U:\\\\465 CSVs\\\\'\n",
    "tableList = ['cultural spaces', 'discipline', 'neighborhood', 'constituency']\n",
    "tableLDList = [cultural_spaces_ld, discipline_ld, neighborhood_ld, constituency_ld]\n",
    "tableHeaderList = [cultural_spaces_fields, discipline_fields, neighborhood_fields, constituency_fields]\n",
    "for i in range(0,4):\n",
    "    csv_i = open((filePath + tableList[i] + '.csv'), \"wb\")\n",
    "    csv_writer = csv.DictWriter(csv_i, fieldnames = tableHeaderList[i])\n",
    "    csv_writer.writeheader()\n",
    "    for row in tableLDList[i]:\n",
    "        csv_writer.writerow(row)\n",
    "    csv_i.close()"
   ]
  },
  {
   "cell_type": "code",
   "execution_count": null,
   "metadata": {
    "collapsed": true
   },
   "outputs": [],
   "source": []
  }
 ],
 "metadata": {
  "kernelspec": {
   "display_name": "Python 2",
   "language": "python",
   "name": "python2"
  },
  "language_info": {
   "codemirror_mode": {
    "name": "ipython",
    "version": 2
   },
   "file_extension": ".py",
   "mimetype": "text/x-python",
   "name": "python",
   "nbconvert_exporter": "python",
   "pygments_lexer": "ipython2",
   "version": "2.7.10"
  }
 },
 "nbformat": 4,
 "nbformat_minor": 0
}
