{
 "cells": [
  {
   "cell_type": "code",
   "execution_count": 1,
   "metadata": {
    "collapsed": true
   },
   "outputs": [],
   "source": [
    "# Zach Ellenberg, Willard Chan, Rachel \"Bum Rat\" Kirschner, Spencer Jaquish, Franz Arend\n",
    "# zellenberg, willchan22, kirschdog, sjaquish, fja1995\n",
    "# June 3rd, 2016\n",
    "# Creating Databases with PyGreSQL"
   ]
  },
  {
   "cell_type": "code",
   "execution_count": 2,
   "metadata": {
    "collapsed": false
   },
   "outputs": [],
   "source": [
    "import sys\n",
    "sys.path.append(sys.path.append('C:\\Python27\\ArcGIS10.3\\Lib\\site-packages'))\n",
    "import pg\n",
    "from pg import DB\n",
    "import csv"
   ]
  },
  {
   "cell_type": "code",
   "execution_count": 3,
   "metadata": {
    "collapsed": false
   },
   "outputs": [],
   "source": [
    "# Connect to PostgreSQL Database\n",
    "db = DB(dbname = 'geog465_zellenbe', host = 'geog-db2.geog.uw.edu', port = 5432, user = 'zellenbe', passwd = 'zellenbe')"
   ]
  },
  {
   "cell_type": "code",
   "execution_count": 4,
   "metadata": {
    "collapsed": false
   },
   "outputs": [],
   "source": [
    "# Drop all of the tables to be able to test code many times\n",
    "tableList = ['cultural_spaces', 'discipline', 'neighborhood', 'constituency']\n",
    "for table in tableList:\n",
    "    db.query(\"DROP TABLE \" + table)"
   ]
  },
  {
   "cell_type": "code",
   "execution_count": 5,
   "metadata": {
    "collapsed": false
   },
   "outputs": [],
   "source": [
    "# Create all four tables\n",
    "db.query(\"\"\"CREATE TABLE cultural_spaces (\n",
    "    id int  NOT NULL,\n",
    "    name varchar  NOT NULL,\n",
    "    phone varchar  NULL,\n",
    "    sq_ft_total int  NULL,\n",
    "    address varchar  NULL,\n",
    "    location varchar  NOT NULL,\n",
    "    dom_disc_id int  NOT NULL,\n",
    "    sec_disc_id int  NOT NULL,\n",
    "    third_disc_id int  NOT NULL,\n",
    "    neighborhood_id int  NOT NULL,\n",
    "    constituency_id int  NOT NULL,\n",
    "    lat float NULL,\n",
    "    lng float NULL,\n",
    "    CONSTRAINT cultural_spaces_pk PRIMARY KEY (id))\"\"\")\n",
    "\n",
    "db.query(\"\"\"CREATE TABLE discipline (\n",
    "    id int  NOT NULL,\n",
    "    discipline varchar  NOT NULL,\n",
    "    CONSTRAINT discipline_pk PRIMARY KEY (id))\"\"\")\n",
    "\n",
    "db.query(\"\"\"CREATE TABLE neighborhood (\n",
    "    id int  NOT NULL,\n",
    "    neighborhood varchar  NOT NULL,\n",
    "    CONSTRAINT neighborhood_pk PRIMARY KEY (id))\"\"\")\n",
    "\n",
    "db.query(\"\"\"CREATE TABLE constituency (\n",
    "    id int  NOT NULL,\n",
    "    constituency varchar  NOT NULL,\n",
    "    CONSTRAINT constituency_pk PRIMARY KEY (id))\"\"\")\n",
    "\n",
    "# Create foreign keys\n",
    "db.query(\"\"\"ALTER TABLE cultural_spaces ADD CONSTRAINT Cultural_Spaces_Dominant_Discipline\n",
    "    FOREIGN KEY (dom_disc_id)\n",
    "    REFERENCES discipline (id)  \n",
    "    NOT DEFERRABLE \n",
    "    INITIALLY IMMEDIATE\"\"\")\n",
    "\n",
    "db.query(\"\"\"ALTER TABLE cultural_spaces ADD CONSTRAINT Cultural_Spaces_Second_Discipline\n",
    "    FOREIGN KEY (sec_disc_id)\n",
    "    REFERENCES discipline (id)  \n",
    "    NOT DEFERRABLE \n",
    "    INITIALLY IMMEDIATE\"\"\")\n",
    "\n",
    "db.query(\"\"\"ALTER TABLE cultural_spaces ADD CONSTRAINT Cultural_Spaces_Third_Discipline\n",
    "    FOREIGN KEY (third_disc_id)\n",
    "    REFERENCES discipline (id)  \n",
    "    NOT DEFERRABLE \n",
    "    INITIALLY IMMEDIATE\"\"\")\n",
    "\n",
    "db.query(\"\"\"ALTER TABLE cultural_spaces ADD CONSTRAINT cultural_spaces_constituency\n",
    "    FOREIGN KEY (constituency_id)\n",
    "    REFERENCES constituency (id)  \n",
    "    NOT DEFERRABLE \n",
    "    INITIALLY IMMEDIATE\"\"\")\n",
    "\n",
    "db.query(\"\"\"ALTER TABLE cultural_spaces ADD CONSTRAINT cultural_spaces_neighborhood\n",
    "    FOREIGN KEY (neighborhood_id)\n",
    "    REFERENCES neighborhood (id)  \n",
    "    NOT DEFERRABLE \n",
    "    INITIALLY IMMEDIATE\"\"\")"
   ]
  },
  {
   "cell_type": "code",
   "execution_count": 6,
   "metadata": {
    "collapsed": false
   },
   "outputs": [],
   "source": [
    "# Populate discipline table with data from csv\n",
    "d_file = open('U:\\\\465 CSVs\\\\discipline.csv')\n",
    "d_reader = csv.reader(d_file, delimiter = ',')\n",
    "\n",
    "d_reader.next() # Skip header row\n",
    "\n",
    "for d_row in d_reader:\n",
    "    str_row = str(d_row)\n",
    "    str_row = str_row[1:len(str_row)-1]\n",
    "    db.query(\"INSERT INTO discipline VALUES (\" + str_row + \")\")\n",
    "    \n",
    "d_file.close()"
   ]
  },
  {
   "cell_type": "code",
   "execution_count": 7,
   "metadata": {
    "collapsed": false
   },
   "outputs": [],
   "source": [
    "# Populate neighborhood table with data from csv\n",
    "n_file = open('U:\\\\465 CSVs\\\\neighborhood.csv')\n",
    "n_reader = csv.reader(n_file, delimiter = ',')\n",
    "\n",
    "n_reader.next() # Skip header row\n",
    "\n",
    "for n_row in n_reader:\n",
    "    str_row = str(n_row)\n",
    "    str_row = str_row[1:len(str_row)-1]\n",
    "    db.query(\"INSERT INTO neighborhood VALUES (\" + str_row + \")\")\n",
    "    \n",
    "n_file.close()"
   ]
  },
  {
   "cell_type": "code",
   "execution_count": 8,
   "metadata": {
    "collapsed": false
   },
   "outputs": [],
   "source": [
    "# Populate constituency table with data from csv\n",
    "c_file = open('U:\\\\465 CSVs\\\\constituency.csv')\n",
    "c_reader = csv.reader(c_file, delimiter = ',')\n",
    "\n",
    "c_reader.next() # Skip header row\n",
    "\n",
    "for c_row in c_reader:\n",
    "    str_row = str(c_row)\n",
    "    str_row = str_row[1:len(str_row)-1]\n",
    "    db.query(\"INSERT INTO constituency VALUES (\" + str_row + \")\")\n",
    "    \n",
    "c_file.close()"
   ]
  },
  {
   "cell_type": "code",
   "execution_count": 9,
   "metadata": {
    "collapsed": false
   },
   "outputs": [],
   "source": [
    "# Populate cultural_spaces table with data from csv\n",
    "cs_file = open('U:\\\\465 CSVs\\\\cultural spaces.csv')\n",
    "cs_reader = csv.reader(cs_file, delimiter = ',')\n",
    "\n",
    "cs_reader.next() # Skip header row\n",
    "\n",
    "for cs_row in cs_reader:\n",
    "    str_row = ''                         # Master string to be used in the query\n",
    "    for i in range(0,11):                # There are ten columns, so there are 10 values in each row\n",
    "        val = cs_row[i]\n",
    "        if i in (1,2,4,5):               # Fields in columns 1, 2, 4 & 5 contain strings\n",
    "            val = '\\'' + val + '\\''      # So we put single quotes around them\n",
    "        elif len(val) == 0:              # Fields that are in other columns are integers, here we check if they are null\n",
    "            val = '-1'                   # If they are null, they are assigned a value of -1 because there has to be a value\n",
    "        val = val + ', '                 # We then add a comma to separate the values\n",
    "        str_row = str_row + (val)        # We add the new value and comma and space to the master string created above\n",
    "    str_row = str_row[:len(str_row)-2]   # Here we cut off the final comma and space because they are not needed\n",
    "    db.query(\"INSERT INTO cultural_spaces VALUES (\" + str_row + \")\")\n",
    "    \n",
    "cs_file.close()"
   ]
  },
  {
   "cell_type": "code",
   "execution_count": 10,
   "metadata": {
    "collapsed": false
   },
   "outputs": [],
   "source": [
    "# Here we are filling in the foreign key values and splitting the location field into separate lat and lng fields\n",
    "# orig means that the variable is referencing the original csv file downloaded from data.seattle.gov\n",
    "cs_orig_file = open('U:\\\\Seattle_Cultural_Space_Inventory.csv')\n",
    "cs_orig_reader = csv.reader(cs_orig_file, delimiter = ',')\n",
    "\n",
    "cs_orig_reader.next() # Skip header row\n",
    "\n",
    "for row in cs_orig_reader:\n",
    "    # Here we are getting the original values for name and phone number, in order to later compare against the database to make\n",
    "    # sure that we are updating the foreign keys in the correct row\n",
    "    name_orig = row[0]\n",
    "    phone_orig = row[1]\n",
    "    loc_orig = row[40]\n",
    "    \n",
    "    # Here we are getting the original values for neighborhood, dominant discipline, second discipline, third discipline\n",
    "    # and constituency in order to match it to each of their respective tables to obtain the ids to be used as foreign keys\n",
    "    neighborhood_orig = row[4]\n",
    "    dom_disc_orig = row[6]\n",
    "    sec_disc_orig = row[7]\n",
    "    third_disc_orig = row[8]\n",
    "    constituency_orig = row[35]\n",
    "    \n",
    "    # Here we are getting the id integers for each of the aforementioned values from their respective tables\n",
    "    neighborhood_for_id_query = \"SELECT id FROM neighborhood WHERE neighborhood = \\'\" + neighborhood_orig + \"\\'\"\n",
    "    neighborhood_for_id = db.query(neighborhood_for_id_query).getresult()[0][0]\n",
    "    dom_disc_for_id_query = \"SELECT id FROM discipline WHERE discipline = \\'\" + dom_disc_orig + \"\\'\"\n",
    "    dom_disc_for_id = db.query(dom_disc_for_id_query).getresult()[0][0]\n",
    "    sec_disc_for_id_query = \"SELECT id FROM discipline WHERE discipline = \\'\" + sec_disc_orig + \"\\'\"\n",
    "    sec_disc_for_id = db.query(sec_disc_for_id_query).getresult()[0][0]\n",
    "    third_disc_for_id_query = \"SELECT id FROM discipline WHERE discipline = \\'\" + third_disc_orig + \"\\'\"\n",
    "    third_disc_for_id = db.query(third_disc_for_id_query).getresult()[0][0]\n",
    "    constituency_for_id_query = \"SELECT id FROM constituency WHERE constituency = \\'\" + constituency_orig + \"\\'\"\n",
    "    constituency_for_id = db.query(constituency_for_id_query).getresult()[0][0]\n",
    "    \n",
    "    # Here we compare the name and phone numbers from top of this loop to the ones in the cultural_spaces table,\n",
    "    # then we update the foreign keys to the id integers generated above\n",
    "    all_for_id_update_query = (\"UPDATE cultural_spaces SET neighborhood_id = \" + str(neighborhood_for_id) + \", dom_disc_id =\" \n",
    "                               + str(dom_disc_for_id) + \", sec_disc_id = \" + str(sec_disc_for_id) + \"\"\", third_disc_id = \n",
    "                               \"\"\" + str(third_disc_for_id) + \", constituency_id = \" + str(constituency_for_id) + \n",
    "                               \" WHERE name = \\'\" + str(name_orig) + \"\\' AND phone = \\'\" + str(phone_orig) + \"\\'\")\n",
    "    db.query(all_for_id_update_query)\n",
    "    \n",
    "    # Here we are going to split the lat long field into two fields of type int\n",
    "    if len(loc_orig) != 0:\n",
    "        split = loc_orig.split(',')\n",
    "        lat = split[0][1:]\n",
    "        lng = split[1][1:-1]\n",
    "        lat_update_query = (\"UPDATE cultural_spaces SET lat = \" + lat + \" WHERE name = \\'\" + str(name_orig) + \n",
    "                            \"\\' AND phone = \\'\" + str(phone_orig) + \"\\'\")\n",
    "        lng_update_query = (\"UPDATE cultural_spaces SET lng = \" + lng + \" WHERE name = \\'\" + str(name_orig) + \n",
    "                            \"\\' AND phone = \\'\" + str(phone_orig) + \"\\'\")\n",
    "        db.query(lat_update_query)\n",
    "        db.query(lng_update_query)\n",
    "\n",
    "cs_orig_file.close()"
   ]
  },
  {
   "cell_type": "code",
   "execution_count": null,
   "metadata": {
    "collapsed": true
   },
   "outputs": [],
   "source": []
  }
 ],
 "metadata": {
  "kernelspec": {
   "display_name": "Python 2",
   "language": "python",
   "name": "python2"
  },
  "language_info": {
   "codemirror_mode": {
    "name": "ipython",
    "version": 2
   },
   "file_extension": ".py",
   "mimetype": "text/x-python",
   "name": "python",
   "nbconvert_exporter": "python",
   "pygments_lexer": "ipython2",
   "version": "2.7.10"
  }
 },
 "nbformat": 4,
 "nbformat_minor": 0
}
